{
 "cells": [
  {
   "cell_type": "code",
   "execution_count": 1,
   "id": "6684e1aa",
   "metadata": {},
   "outputs": [],
   "source": [
    "import pandas as pd\n",
    "import re\n",
    "from nltk.stem import WordNetLemmatizer\n",
    "\n",
    "# Preprocess the text data\n",
    "def preprocess(textdata):\n",
    "    processedText = []\n",
    "    wordLemm = WordNetLemmatizer()\n",
    "    urlPattern = r\"((http://)[^ ]*|(https://)[^ ]*|( www\\.)[^ ]*)\"\n",
    "    userPattern = '@[^\\s]+'\n",
    "    alphaPattern = \"[^a-zA-Z0-9]\"\n",
    "    sequencePattern = r\"(.)\\1\\1+\"\n",
    "    seqReplacePattern = r\"\\1\\1\"\n",
    "\n",
    "    for tweet in textdata:\n",
    "        tweet = tweet.lower()\n",
    "        tweet = re.sub(urlPattern, ' URL', tweet)\n",
    "        tweet = re.sub(userPattern, ' USER', tweet)\n",
    "        tweet = re.sub(alphaPattern, \" \", tweet)\n",
    "        tweet = re.sub(sequencePattern, seqReplacePattern, tweet)\n",
    "        tweetwords = ''\n",
    "        for word in tweet.split():\n",
    "            word = wordLemm.lemmatize(word)\n",
    "            tweetwords += (word + ' ')\n",
    "        processedText.append(tweetwords)\n",
    "\n",
    "    return processedText\n",
    "\n",
    "# Load the data\n",
    "DATASET_COLUMNS = [\"sentiment\", \"ids\", \"date\", \"flag\", \"user\", \"text\"]\n",
    "DATASET_ENCODING = \"ISO-8859-1\"\n",
    "dataset = pd.read_csv('C:/Users/IDEH/Desktop/Sentimental/Data/Sentiment140.csv',\n",
    "                      encoding=DATASET_ENCODING, names=DATASET_COLUMNS)\n",
    "\n",
    "# Apply preprocessing to the text data\n",
    "processed_text = preprocess(dataset['text'].values)\n",
    "\n",
    "# Save the preprocessed data\n",
    "preprocessed_df = pd.DataFrame({'text': processed_text, 'sentiment': dataset['sentiment']})\n",
    "preprocessed_df.to_csv('preprocessed_data.csv', index=False)\n"
   ]
  },
  {
   "cell_type": "code",
   "execution_count": null,
   "id": "8c096f7d",
   "metadata": {},
   "outputs": [],
   "source": []
  }
 ],
 "metadata": {
  "kernelspec": {
   "display_name": "Python 3 (ipykernel)",
   "language": "python",
   "name": "python3"
  },
  "language_info": {
   "codemirror_mode": {
    "name": "ipython",
    "version": 3
   },
   "file_extension": ".py",
   "mimetype": "text/x-python",
   "name": "python",
   "nbconvert_exporter": "python",
   "pygments_lexer": "ipython3",
   "version": "3.11.3"
  }
 },
 "nbformat": 4,
 "nbformat_minor": 5
}
