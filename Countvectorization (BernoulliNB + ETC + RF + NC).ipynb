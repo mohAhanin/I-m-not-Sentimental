{
 "cells": [
  {
   "cell_type": "code",
   "execution_count": 1,
   "id": "b9efcd65",
   "metadata": {},
   "outputs": [],
   "source": [
    "import pandas as pd\n",
    "import matplotlib.pyplot as plt\n",
    "import re\n",
    "from nltk.stem import WordNetLemmatizer\n",
    "from tqdm import tqdm\n",
    "import time\n",
    "from sklearn.feature_extraction.text import CountVectorizer\n",
    "from sklearn.model_selection import train_test_split\n",
    "from sklearn.naive_bayes import BernoulliNB\n",
    "from sklearn.metrics import classification_report, accuracy_score, confusion_matrix\n",
    "import seaborn as sns"
   ]
  },
  {
   "cell_type": "code",
   "execution_count": 2,
   "id": "a790ec21",
   "metadata": {},
   "outputs": [],
   "source": [
    "# Load and preprocess the data\n",
    "DATASET_COLUMNS = [\"sentiment\", \"ids\", \"date\", \"flag\", \"user\", \"text\"]\n",
    "DATASET_ENCODING = \"ISO-8859-1\"\n",
    "dataset = pd.read_csv('C:/Users/IDEH/Desktop/Sentimental/Data/Sentiment140.csv',\n",
    "                      encoding=DATASET_ENCODING, names=DATASET_COLUMNS)\n"
   ]
  },
  {
   "cell_type": "code",
   "execution_count": 3,
   "id": "d4088750",
   "metadata": {},
   "outputs": [
    {
     "name": "stdout",
     "output_type": "stream",
     "text": [
      "0    800000\n",
      "4    800000\n",
      "Name: sentiment, dtype: int64\n"
     ]
    }
   ],
   "source": [
    "dataset = dataset[['sentiment', 'text']]\n",
    "sentiment_counts = dataset['sentiment'].value_counts()\n",
    "print(sentiment_counts)"
   ]
  },
  {
   "cell_type": "code",
   "execution_count": 4,
   "id": "7a5d8c9c",
   "metadata": {},
   "outputs": [],
   "source": [
    "# Map sentiment labels to integers (0: negative, 4: positive)\n",
    "sentiment_map = {0: 0, 4: 1}  # 0: negative, 1: positive\n",
    "dataset.loc[:, 'sentiment'] = dataset['sentiment'].map(sentiment_map)\n"
   ]
  },
  {
   "cell_type": "code",
   "execution_count": null,
   "id": "a5873e93",
   "metadata": {},
   "outputs": [
    {
     "name": "stderr",
     "output_type": "stream",
     "text": [
      "Processing tweets:  32%|███████████████▌                                 | 508751/1600000 [00:59<02:04, 8737.55tweet/s]"
     ]
    }
   ],
   "source": [
    "# Preprocess the text data\n",
    "def preprocess(textdata):\n",
    "    processedText = []\n",
    "    wordLemm = WordNetLemmatizer()\n",
    "    urlPattern = r\"((http://)[^ ]*|(https://)[^ ]*|( www\\.)[^ ]*)\"\n",
    "    userPattern = '@[^\\s]+'\n",
    "    alphaPattern = \"[^a-zA-Z0-9]\"\n",
    "    sequencePattern = r\"(.)\\1\\1+\"\n",
    "    seqReplacePattern = r\"\\1\\1\"\n",
    "\n",
    "    for tweet in tqdm(textdata, desc=\"Processing tweets\", unit=\"tweet\"):\n",
    "        tweet = tweet.lower()\n",
    "        tweet = re.sub(urlPattern, ' URL', tweet)\n",
    "        tweet = re.sub(userPattern, ' USER', tweet)\n",
    "        tweet = re.sub(alphaPattern, \" \", tweet)\n",
    "        tweet = re.sub(sequencePattern, seqReplacePattern, tweet)\n",
    "        tweetwords = ''\n",
    "        for word in tweet.split():\n",
    "            word = wordLemm.lemmatize(word)\n",
    "            tweetwords += (word + ' ')\n",
    "        processedText.append(tweetwords)\n",
    "\n",
    "    return processedText\n",
    "\n",
    "processed_text = preprocess(dataset['text'].values)"
   ]
  },
  {
   "cell_type": "code",
   "execution_count": null,
   "id": "14796605",
   "metadata": {},
   "outputs": [],
   "source": [
    "# Initialize the CountVectorizer\n",
    "count_vectorizer = CountVectorizer(max_features=20000, stop_words='english', ngram_range=(1, 2), min_df=5, max_df=0.8)"
   ]
  },
  {
   "cell_type": "code",
   "execution_count": null,
   "id": "5eb370a4",
   "metadata": {},
   "outputs": [],
   "source": [
    "# Vectorize the text data\n",
    "start_time = time.time()\n",
    "X_counts = count_vectorizer.fit_transform(tqdm(processed_text, desc=\"Vectorizing text data\", unit=\"document\"))\n",
    "end_time = time.time()\n",
    "print(f\"Vectorization completed in {end_time - start_time:.2f} seconds\")"
   ]
  },
  {
   "cell_type": "code",
   "execution_count": null,
   "id": "ddfa26fe",
   "metadata": {},
   "outputs": [],
   "source": [
    "# Split the data\n",
    "X_train_counts, X_test_counts, y_train, y_test = train_test_split(X_counts, dataset['sentiment'].values, test_size=0.2, random_state=0)\n"
   ]
  },
  {
   "cell_type": "code",
   "execution_count": null,
   "id": "cfd8a8e7",
   "metadata": {},
   "outputs": [],
   "source": []
  },
  {
   "cell_type": "markdown",
   "id": "644c5cde",
   "metadata": {},
   "source": [
    "# BernoulliNB"
   ]
  },
  {
   "cell_type": "code",
   "execution_count": null,
   "id": "7e6d2440",
   "metadata": {},
   "outputs": [],
   "source": [
    "# Define the model evaluation function\n",
    "def model_Evaluate(model):\n",
    "    y_pred = model.predict(X_test_counts)\n",
    "    print(\"Classification Report:\\n\", classification_report(y_test, y_pred))\n",
    "    print(\"Accuracy:\", accuracy_score(y_test, y_pred))\n",
    "    \n",
    "    # Compute the confusion matrix\n",
    "    cm = confusion_matrix(y_test, y_pred)\n",
    "    \n",
    "    # Plot the confusion matrix\n",
    "    plt.figure(figsize=(10, 7))\n",
    "    sns.heatmap(cm, annot=True, fmt='d', cmap='Blues', xticklabels=['Negative', 'Positive'], yticklabels=['Negative', 'Positive'])\n",
    "    plt.xlabel('Predicted')\n",
    "    plt.ylabel('Actual')\n",
    "    plt.title('Confusion Matrix')\n",
    "    plt.show()"
   ]
  },
  {
   "cell_type": "code",
   "execution_count": null,
   "id": "eb515fc3",
   "metadata": {},
   "outputs": [],
   "source": [
    "# Initialize and train the BernoulliNB model\n",
    "BNB_model = BernoulliNB(alpha=1.0, binarize=0.0, fit_prior=True, class_prior=None)\n",
    "BNB_model.fit(X_train_counts, y_train)\n"
   ]
  },
  {
   "cell_type": "code",
   "execution_count": null,
   "id": "5e17404c",
   "metadata": {},
   "outputs": [],
   "source": [
    "# Evaluate the model\n",
    "model_Evaluate(BNB_model)"
   ]
  },
  {
   "cell_type": "markdown",
   "id": "9f14436c",
   "metadata": {},
   "source": [
    "## GridSearch"
   ]
  },
  {
   "cell_type": "code",
   "execution_count": null,
   "id": "1bf7f772",
   "metadata": {},
   "outputs": [],
   "source": [
    "from sklearn.model_selection import GridSearchCV\n",
    "from sklearn.naive_bayes import BernoulliNB\n",
    "from sklearn.metrics import accuracy_score, f1_score, roc_auc_score, balanced_accuracy_score\n"
   ]
  },
  {
   "cell_type": "code",
   "execution_count": null,
   "id": "cd0c395c",
   "metadata": {},
   "outputs": [],
   "source": [
    "param_grid = {\n",
    "    'alpha': [0.1, 0.5, 1.0],    # Smoothing parameter\n",
    "    'binarize': [0.0, 0.5, 1.0], # Threshold for binarizing features\n",
    "    'fit_prior': [True, False]   # Whether to learn class prior probabilities\n",
    "}\n"
   ]
  },
  {
   "cell_type": "code",
   "execution_count": null,
   "id": "3cf484dc",
   "metadata": {},
   "outputs": [],
   "source": [
    "# Initialize the model\n",
    "bernoulli_nb = BernoulliNB()\n",
    "\n",
    "# Setup Grid Search with cross-validation\n",
    "grid_search = GridSearchCV(estimator=bernoulli_nb, param_grid=param_grid, cv=5, scoring='accuracy', n_jobs=-1, verbose=2)\n"
   ]
  },
  {
   "cell_type": "code",
   "execution_count": null,
   "id": "b93b0495",
   "metadata": {},
   "outputs": [],
   "source": [
    "# Fit the grid search\n",
    "grid_search.fit(X_train_counts, y_train)\n",
    "\n",
    "# Get the best model parameters and accuracy\n",
    "best_params = grid_search.best_params_\n",
    "best_accuracy = grid_search.best_score_\n",
    "\n",
    "print(f\"Best Parameters: {best_params}\")\n",
    "print(f\"Best Accuracy: {best_accuracy:.2f}\")\n",
    "\n",
    "# Evaluate the best model on the test set\n",
    "best_model = grid_search.best_estimator_\n",
    "y_pred = best_model.predict(X_test_counts)\n",
    "\n",
    "test_accuracy = accuracy_score(y_test, y_pred)\n",
    "f1 = f1_score(y_test, y_pred, average='weighted')\n",
    "roc_auc = roc_auc_score(y_test, y_pred)\n",
    "balanced_acc = balanced_accuracy_score(y_test, y_pred)\n",
    "\n",
    "print(f\"Test Accuracy: {test_accuracy:.2f}\")\n",
    "print(f\"F1 Score: {f1:.2f}\")\n",
    "print(f\"ROC AUC: {roc_auc:.2f}\")\n",
    "print(f\"Balanced Accuracy: {balanced_acc:.2f}\")\n"
   ]
  },
  {
   "cell_type": "markdown",
   "id": "ef399a87",
   "metadata": {},
   "source": [
    "# Random Forest"
   ]
  },
  {
   "cell_type": "code",
   "execution_count": null,
   "id": "bc549c97",
   "metadata": {},
   "outputs": [],
   "source": [
    "from sklearn.ensemble import RandomForestClassifier\n",
    "from sklearn.model_selection import RandomizedSearchCV\n"
   ]
  },
  {
   "cell_type": "code",
   "execution_count": null,
   "id": "0eebc2cb",
   "metadata": {},
   "outputs": [],
   "source": [
    "# # Initialize and train the RandomForestClassifier model with fewer trees\n",
    "# RF_model = RandomForestClassifier(n_estimators=1, random_state=0, n_jobs=-1)\n",
    "# RF_model.fit(X_train_counts, y_train)"
   ]
  },
  {
   "cell_type": "code",
   "execution_count": null,
   "id": "69c173bb",
   "metadata": {},
   "outputs": [],
   "source": [
    "# def model_Evaluate(model):\n",
    "#     y_pred = model.predict(X_test_counts)\n",
    "#     print(\"Classification Report:\\n\", classification_report(y_test, y_pred))\n",
    "#     print(\"Accuracy:\", accuracy_score(y_test, y_pred))\n",
    "    \n",
    "#     # Compute the confusion matrix\n",
    "#     cm = confusion_matrix(y_test, y_pred)\n",
    "    \n",
    "#     # Plot the confusion matrix\n",
    "#     plt.figure(figsize=(10, 7))\n",
    "#     sns.heatmap(cm, annot=True, fmt='d', cmap='Blues', xticklabels=['Negative', 'Positive'], yticklabels=['Negative', 'Positive'])\n",
    "#     plt.xlabel('Predicted')\n",
    "#     plt.ylabel('Actual')\n",
    "#     plt.title('Confusion Matrix')\n",
    "#     plt.show()"
   ]
  },
  {
   "cell_type": "code",
   "execution_count": null,
   "id": "8113db6d",
   "metadata": {},
   "outputs": [],
   "source": [
    "# param_dist = {\n",
    "#     'n_estimators': randint(50, 200),\n",
    "#     'max_depth': [None, 10, 20, 30],\n",
    "#     'min_samples_split': randint(2, 11),\n",
    "#     'min_samples_leaf': randint(1, 5)\n",
    "# }\n",
    "\n",
    "# # Setup Randomized Search with cross-validation\n",
    "# random_search = RandomizedSearchCV(estimator=RandomForestClassifier(random_state=0, n_jobs=-1), \n",
    "#                                    param_distributions=param_dist, \n",
    "#                                    n_iter=20,  # number of parameter settings that are sampled\n",
    "#                                    cv=5, \n",
    "#                                    scoring='accuracy', \n",
    "#                                    n_jobs=-1, \n",
    "#                                    verbose=2,\n",
    "#                                    random_state=0)\n",
    "\n",
    "# # Fit the random search\n",
    "# random_search.fit(X_train_counts, y_train)\n",
    "\n",
    "# # Get the best model parameters and accuracy\n",
    "# best_params = random_search.best_params_\n",
    "# best_accuracy = random_search.best_score_\n",
    "\n",
    "# print(f\"Best Parameters: {best_params}\")\n",
    "# print(f\"Best Accuracy: {best_accuracy:.2f}\")\n",
    "\n",
    "# # Evaluate the best model on the test set\n",
    "# best_model = random_search.best_estimator_\n",
    "# y_pred = best_model.predict(X_test_counts)\n",
    "\n",
    "# test_accuracy = accuracy_score(y_test, y_pred)\n",
    "# f1 = f1_score(y_test, y_pred, average='weighted')\n",
    "# roc_auc = roc_auc_score(y_test, y_pred)\n",
    "# balanced_acc = balanced_accuracy_score(y_test, y_pred)\n",
    "\n",
    "# print(f\"Test Accuracy: {test_accuracy:.2f}\")\n",
    "# print(f\"F1 Score: {f1:.2f}\")\n",
    "# print(f\"ROC AUC: {roc_auc:.2f}\")\n",
    "# print(f\"Balanced Accuracy: {balanced_acc:.2f}\")\n",
    "\n",
    "# # Final evaluation of the best model\n",
    "# model_Evaluate(best_model)"
   ]
  },
  {
   "cell_type": "markdown",
   "id": "26805333",
   "metadata": {},
   "source": [
    "# ETC"
   ]
  },
  {
   "cell_type": "code",
   "execution_count": null,
   "id": "cb9129ed",
   "metadata": {},
   "outputs": [],
   "source": [
    "# # Initialize and train the ExtraTreesClassifier model\n",
    "# ETC_model = ExtraTreesClassifier(random_state=0)\n",
    "# ETC_model.fit(X_train_counts, y_train)"
   ]
  },
  {
   "cell_type": "code",
   "execution_count": null,
   "id": "89f4d652",
   "metadata": {},
   "outputs": [],
   "source": [
    "# # Evaluate the model\n",
    "# model_Evaluate(ETC_model)"
   ]
  },
  {
   "cell_type": "markdown",
   "id": "e656d8e0",
   "metadata": {},
   "source": [
    "# Nearest Centroids"
   ]
  },
  {
   "cell_type": "code",
   "execution_count": null,
   "id": "fcb5881d",
   "metadata": {},
   "outputs": [],
   "source": [
    "from sklearn.neighbors import NearestCentroid"
   ]
  },
  {
   "cell_type": "code",
   "execution_count": null,
   "id": "7c2eb720",
   "metadata": {},
   "outputs": [],
   "source": [
    "# Initialize and train the NearestCentroid model\n",
    "NC_model = NearestCentroid()\n",
    "NC_model.fit(X_train_counts, y_train)"
   ]
  },
  {
   "cell_type": "code",
   "execution_count": null,
   "id": "091e7788",
   "metadata": {},
   "outputs": [],
   "source": []
  }
 ],
 "metadata": {
  "kernelspec": {
   "display_name": "Python 3 (ipykernel)",
   "language": "python",
   "name": "python3"
  },
  "language_info": {
   "codemirror_mode": {
    "name": "ipython",
    "version": 3
   },
   "file_extension": ".py",
   "mimetype": "text/x-python",
   "name": "python",
   "nbconvert_exporter": "python",
   "pygments_lexer": "ipython3",
   "version": "3.11.3"
  }
 },
 "nbformat": 4,
 "nbformat_minor": 5
}
