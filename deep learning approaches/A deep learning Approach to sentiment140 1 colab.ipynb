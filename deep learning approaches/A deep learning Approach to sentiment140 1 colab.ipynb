{
  "cells": [
    {
      "cell_type": "markdown",
      "metadata": {
        "id": "a2jj5_5qIBqE"
      },
      "source": [
        "# New Approach"
      ]
    },
    {
      "cell_type": "code",
      "execution_count": null,
      "metadata": {
        "colab": {
          "base_uri": "https://localhost:8080/"
        },
        "id": "0YWonMAWH_Lv",
        "outputId": "02d11059-0407-493d-b64c-8a9de5922436"
      },
      "outputs": [
        {
          "name": "stdout",
          "output_type": "stream",
          "text": [
            "Requirement already satisfied: nltk in /usr/local/lib/python3.10/dist-packages (3.8.1)\n",
            "Requirement already satisfied: tqdm in /usr/local/lib/python3.10/dist-packages (4.66.4)\n",
            "Requirement already satisfied: click in /usr/local/lib/python3.10/dist-packages (from nltk) (8.1.7)\n",
            "Requirement already satisfied: joblib in /usr/local/lib/python3.10/dist-packages (from nltk) (1.4.2)\n",
            "Requirement already satisfied: regex>=2021.8.3 in /usr/local/lib/python3.10/dist-packages (from nltk) (2024.5.15)\n"
          ]
        },
        {
          "name": "stderr",
          "output_type": "stream",
          "text": [
            "[nltk_data] Downloading package wordnet to /root/nltk_data...\n",
            "[nltk_data] Downloading package omw-1.4 to /root/nltk_data...\n"
          ]
        }
      ],
      "source": [
        "!pip install nltk tqdm\n",
        "import nltk\n",
        "nltk.download('wordnet')\n",
        "nltk.download('omw-1.4')\n",
        "\n",
        "# Import required libraries\n",
        "import numpy as np\n",
        "import pandas as pd\n",
        "import re\n",
        "import tensorflow as tf\n",
        "from tensorflow.keras.models import Sequential\n",
        "from tensorflow.keras.layers import Embedding, LSTM, Dense, SpatialDropout1D, Bidirectional\n",
        "from tensorflow.keras.preprocessing.text import Tokenizer\n",
        "from tensorflow.keras.preprocessing.sequence import pad_sequences\n",
        "from sklearn.model_selection import train_test_split\n",
        "from sklearn.metrics import accuracy_score, precision_recall_fscore_support\n",
        "from tensorflow.keras.callbacks import EarlyStopping, ReduceLROnPlateau\n",
        "import matplotlib.pyplot as plt\n",
        "import seaborn as sns\n",
        "from nltk.stem import WordNetLemmatizer\n",
        "from tqdm import tqdm\n",
        "import time"
      ]
    },
    {
      "cell_type": "code",
      "execution_count": null,
      "metadata": {
        "colab": {
          "base_uri": "https://localhost:8080/"
        },
        "id": "YjWpzlEyIAPb",
        "outputId": "0b678f56-31ce-4fd1-f0cd-ac1a4ba3ad1d"
      },
      "outputs": [
        {
          "name": "stdout",
          "output_type": "stream",
          "text": [
            "File ‘data/sentiment140-subset.csv.zip’ already there; not retrieving.\n",
            "\n",
            "Archive:  data/sentiment140-subset.csv.zip\n",
            "[0 1]\n",
            "polarity\n",
            "0    249725\n",
            "1    249725\n",
            "Name: count, dtype: int64\n"
          ]
        }
      ],
      "source": [
        "# Make data directory if it doesn't exist\n",
        "!mkdir -p data\n",
        "!wget -nc https://nyc3.digitaloceanspaces.com/ml-files-distro/v1/sentiment-analysis-is-bad/data/sentiment140-subset.csv.zip -P data\n",
        "!unzip -n -d data data/sentiment140-subset.csv.zip\n",
        "\n",
        "# Load the dataset\n",
        "df = pd.read_csv(\"data/sentiment140-subset.csv\")\n",
        "dataset = df[['polarity', 'text']]\n",
        "\n",
        "# Check the unique values in the 'polarity' column\n",
        "print(dataset['polarity'].unique())\n",
        "\n",
        "# Balance the dataset - Adjust the polarity values based on the output of the print statement above\n",
        "minority_count = dataset['polarity'].value_counts().min()\n",
        "balanced_df = pd.concat([\n",
        "    dataset[dataset['polarity'] == 0].sample(minority_count, replace=False),\n",
        "    dataset[dataset['polarity'] == 1].sample(minority_count, replace=False),\n",
        "]).sample(frac=1).reset_index(drop=True)\n",
        "\n",
        "# Check the class distribution after balancing\n",
        "print(balanced_df['polarity'].value_counts())"
      ]
    },
    {
      "cell_type": "code",
      "execution_count": null,
      "metadata": {
        "colab": {
          "base_uri": "https://localhost:8080/"
        },
        "id": "V6v4HzN_IQdG",
        "outputId": "1ce3fa8e-0528-48ba-a387-34656383a6a0"
      },
      "outputs": [
        {
          "name": "stderr",
          "output_type": "stream",
          "text": [
            "Processing tweets: 100%|██████████| 499450/499450 [00:47<00:00, 10554.98tweet/s]\n"
          ]
        }
      ],
      "source": [
        "def preprocess(textdata):\n",
        "    processedText = []\n",
        "    wordLemm = WordNetLemmatizer()\n",
        "    urlPattern = r\"((http://)[^ ]*|(https://)[^ ]*|( www\\.)[^ ]*)\"\n",
        "    userPattern = '@[^\\s]+'\n",
        "    alphaPattern = \"[^a-zA-Z0-9]\"\n",
        "    sequencePattern = r\"(.)\\1\\1+\"\n",
        "    seqReplacePattern = r\"\\1\\1\"\n",
        "    for tweet in tqdm(textdata, desc=\"Processing tweets\", unit=\"tweet\"):\n",
        "        tweet = str(tweet).lower()\n",
        "        tweet = re.sub(urlPattern, ' URL', tweet)\n",
        "        tweet = re.sub(userPattern, ' USER', tweet)\n",
        "        tweet = re.sub(alphaPattern, \" \", tweet)\n",
        "        tweet = re.sub(sequencePattern, seqReplacePattern, tweet)\n",
        "        tweetwords = ''\n",
        "        for word in tweet.split():\n",
        "            word = wordLemm.lemmatize(word)\n",
        "            tweetwords += (word + ' ')\n",
        "        processedText.append(tweetwords)\n",
        "    return processedText\n",
        "\n",
        "processed_text = preprocess(balanced_df['text'].values)"
      ]
    },
    {
      "cell_type": "code",
      "execution_count": null,
      "metadata": {
        "id": "NjWfxJXNI6JG"
      },
      "outputs": [],
      "source": [
        "max_features = 10000\n",
        "tokenizer = Tokenizer(num_words=max_features, split=' ')\n",
        "tokenizer.fit_on_texts(processed_text)\n",
        "X = tokenizer.texts_to_sequences(processed_text)\n",
        "X = pad_sequences(X, maxlen=50)"
      ]
    },
    {
      "cell_type": "code",
      "execution_count": null,
      "metadata": {
        "id": "wwt4bgJdI-mG"
      },
      "outputs": [],
      "source": [
        "Y = balanced_df['polarity'].values\n",
        "X_train, X_test, Y_train, Y_test = train_test_split(X, Y, test_size=0.2, random_state=42)"
      ]
    },
    {
      "cell_type": "code",
      "execution_count": null,
      "metadata": {
        "colab": {
          "base_uri": "https://localhost:8080/"
        },
        "id": "EXFvbR_xJA3m",
        "outputId": "e0005f7e-a599-4c75-db5a-bf8410731d23"
      },
      "outputs": [
        {
          "name": "stderr",
          "output_type": "stream",
          "text": [
            "/usr/local/lib/python3.10/dist-packages/keras/src/layers/core/embedding.py:90: UserWarning: Argument `input_length` is deprecated. Just remove it.\n",
            "  warnings.warn(\n"
          ]
        },
        {
          "name": "stdout",
          "output_type": "stream",
          "text": [
            "Epoch 1/10\n",
            "\u001b[1m5619/5619\u001b[0m \u001b[32m━━━━━━━━━━━━━━━━━━━━\u001b[0m\u001b[37m\u001b[0m \u001b[1m765s\u001b[0m 135ms/step - accuracy: 0.7679 - loss: 0.4797 - val_accuracy: 0.8075 - val_loss: 0.4167 - learning_rate: 0.0010\n",
            "Epoch 2/10\n",
            "\u001b[1m5619/5619\u001b[0m \u001b[32m━━━━━━━━━━━━━━━━━━━━\u001b[0m\u001b[37m\u001b[0m \u001b[1m801s\u001b[0m 135ms/step - accuracy: 0.8180 - loss: 0.3987 - val_accuracy: 0.8164 - val_loss: 0.4035 - learning_rate: 0.0010\n",
            "Epoch 3/10\n",
            "\u001b[1m5619/5619\u001b[0m \u001b[32m━━━━━━━━━━━━━━━━━━━━\u001b[0m\u001b[37m\u001b[0m \u001b[1m803s\u001b[0m 135ms/step - accuracy: 0.8320 - loss: 0.3731 - val_accuracy: 0.8170 - val_loss: 0.4035 - learning_rate: 0.0010\n",
            "Epoch 4/10\n",
            "\u001b[1m5619/5619\u001b[0m \u001b[32m━━━━━━━━━━━━━━━━━━━━\u001b[0m\u001b[37m\u001b[0m \u001b[1m806s\u001b[0m 136ms/step - accuracy: 0.8411 - loss: 0.3552 - val_accuracy: 0.8171 - val_loss: 0.4048 - learning_rate: 0.0010\n",
            "Epoch 5/10\n",
            "\u001b[1m5619/5619\u001b[0m \u001b[32m━━━━━━━━━━━━━━━━━━━━\u001b[0m\u001b[37m\u001b[0m \u001b[1m795s\u001b[0m 135ms/step - accuracy: 0.8486 - loss: 0.3411 - val_accuracy: 0.8152 - val_loss: 0.4163 - learning_rate: 0.0010\n"
          ]
        }
      ],
      "source": [
        "model = Sequential()\n",
        "model.add(Embedding(max_features, 128, input_length=X.shape[1]))\n",
        "model.add(SpatialDropout1D(0.2))\n",
        "model.add(Bidirectional(LSTM(64, dropout=0.2, recurrent_dropout=0.2)))\n",
        "model.add(Dense(1, activation='sigmoid'))\n",
        "model.compile(loss='binary_crossentropy', optimizer='adam', metrics=['accuracy'])\n",
        "\n",
        "early_stopping = EarlyStopping(monitor='val_loss', patience=3, restore_best_weights=True)\n",
        "reduce_lr = ReduceLROnPlateau(monitor='val_loss', factor=0.2, patience=2, min_lr=0.001)\n",
        "\n",
        "history = model.fit(X_train, Y_train, epochs=10, batch_size=64, validation_split=0.1, callbacks=[early_stopping, reduce_lr])"
      ]
    },
    {
      "cell_type": "code",
      "execution_count": null,
      "metadata": {
        "colab": {
          "background_save": true,
          "base_uri": "https://localhost:8080/"
        },
        "id": "ik4p8fiHJD7g",
        "outputId": "8c1f3838-2798-4d15-8dd2-578befe04b50"
      },
      "outputs": [
        {
          "name": "stdout",
          "output_type": "stream",
          "text": [
            "\u001b[1m3122/3122\u001b[0m \u001b[32m━━━━━━━━━━━━━━━━━━━━\u001b[0m\u001b[37m\u001b[0m \u001b[1m53s\u001b[0m 17ms/step\n",
            "Accuracy: 0.8168285113624988\n",
            "Precision: 0.8188408707526709\n",
            "Recall: 0.8146690375816668\n",
            "F1 Score: 0.8167496269292016\n"
          ]
        }
      ],
      "source": [
        "Y_pred = model.predict(X_test)\n",
        "Y_pred = np.round(Y_pred).astype(int).flatten()\n",
        "accuracy = accuracy_score(Y_test, Y_pred)\n",
        "precision, recall, f1, _ = precision_recall_fscore_support(Y_test, Y_pred, average='binary')\n",
        "print(f'Accuracy: {accuracy}')\n",
        "print(f'Precision: {precision}')\n",
        "print(f'Recall: {recall}')\n",
        "print(f'F1 Score: {f1}')"
      ]
    },
    {
      "cell_type": "code",
      "execution_count": null,
      "metadata": {
        "colab": {
          "background_save": true
        },
        "id": "efiLbu7MLQBa",
        "outputId": "c54297bc-b4e9-4282-9195-30d8911dd357"
      },
      "outputs": [
        {
          "data": {
            "image/png": "[encoded data removed]",
            "text/plain": [
              "<Figure size 1200x600 with 1 Axes>"
            ]
          },
          "metadata": {},
          "output_type": "display_data"
        }
      ],
      "source": [
        "plt.figure(figsize=(12, 6))\n",
        "plt.plot(history.history['accuracy'], label='train_accuracy')\n",
        "plt.plot(history.history['val_accuracy'], label='val_accuracy')\n",
        "plt.plot(history.history['loss'], label='train_loss')\n",
        "plt.plot(history.history['val_loss'], label='val_loss')\n",
        "plt.title('Model Performance')\n",
        "plt.xlabel('Epochs')\n",
        "plt.ylabel('Accuracy/Loss')\n",
        "plt.legend()\n",
        "plt.show()"
      ]
    },
    {
      "cell_type": "code",
      "execution_count": null,
      "metadata": {
        "id": "W316elsDLSW6"
      },
      "outputs": [],
      "source": []
    }
  ],
  "metadata": {
    "colab": {
      "provenance": []
    },
    "kernelspec": {
      "display_name": "Python 3",
      "name": "python3"
    },
    "language_info": {
      "name": "python"
    }
  },
  "nbformat": 4,
  "nbformat_minor": 0
}